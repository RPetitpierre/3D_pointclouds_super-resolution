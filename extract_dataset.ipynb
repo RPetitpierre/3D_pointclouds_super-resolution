{
 "cells": [
  {
   "cell_type": "code",
   "execution_count": 1,
   "metadata": {},
   "outputs": [
    {
     "name": "stdout",
     "output_type": "stream",
     "text": [
      "turing : done\n",
      "turing : done\n"
     ]
    },
    {
     "data": {
      "text/plain": [
       "'Task completed'"
      ]
     },
     "execution_count": 1,
     "metadata": {},
     "output_type": "execute_result"
    }
   ],
   "source": [
    "import numpy\n",
    "import os\n",
    "import sys\n",
    "import random\n",
    "\n",
    "##\n",
    "##  script - argument and parameter\n",
    "##\n",
    "\n",
    "ml_args_mode = 'full'\n",
    "ml_args_dataset_low_res = './data/16x16x16-geneva-2005'\n",
    "ml_args_dataset_high_res = './data/32x32x32-geneva-2005'\n",
    "ml_args_width_low_res = 16\n",
    "ml_args_width_high_res = 32\n",
    "ml_args_raster_low_res = './raster/low_res'\n",
    "ml_args_raster_high_res = './raster/high_res'\n",
    "ml_args_count = '13597'\n",
    "\n",
    "##\n",
    "##  script - raster exportation\n",
    "##\n",
    "\n",
    "def ml_raster_export( ml_data, ml_path ):\n",
    "\n",
    "    # create output stream #\n",
    "    with open( ml_path, 'ab' ) as ml_file:\n",
    "\n",
    "        # export raster array #\n",
    "        numpy.array( ml_data, dtype=numpy.uint8 ).tofile( ml_file )\n",
    "\n",
    "##\n",
    "##  script - dataset importation\n",
    "##\n",
    "\n",
    "def ml_raster_import( ml_path, ml_width ):\n",
    "\n",
    "    # check consistency #\n",
    "    if ( not os.path.exists( ml_path ) ):\n",
    "\n",
    "        # send message #\n",
    "        sys.exit( 'turing : error : unable to access dataset' )\n",
    "\n",
    "    # create input stream #\n",
    "    with open( ml_path, 'rb' ) as ml_file:\n",
    "\n",
    "        # import bytes #\n",
    "        ml_byte = ml_file.read( os.path.getsize( ml_path ) )\n",
    "\n",
    "    # convert to numpy array #\n",
    "    ml_data = numpy.frombuffer( ml_byte, dtype=numpy.uint8 )\n",
    "\n",
    "    # return dataset #\n",
    "    return( ml_data.reshape( -1, ml_width, ml_width, ml_width ) )\n",
    "\n",
    "##\n",
    "##  script - dataset import\n",
    "##\n",
    "\n",
    "def ml_dataset_import( ml_args_dataset, ml_args_raster, ml_args_width ):\n",
    "    \n",
    "    # import dataset #\n",
    "    ml_data = ml_raster_import( ml_args_dataset, ml_args_width )\n",
    "\n",
    "    # check script mode #\n",
    "    if ( ml_args_mode == 'full' ):\n",
    "\n",
    "        # parsing dataset #\n",
    "        for ml_parse in range( ml_data.shape[0] ):\n",
    "\n",
    "            # export raster #\n",
    "            ml_raster_export( ml_data[ml_parse], ml_args_raster + '/raster-{:06d}.ras'.format( ml_parse ) )\n",
    "\n",
    "        # display information #\n",
    "        print( 'turing : done' )\n",
    "\n",
    "    elif ( ml_args_mode == 'sample' ):\n",
    "\n",
    "        # parsing dataset #\n",
    "        for ml_parse in range( ml_args_count ):\n",
    "\n",
    "            # create random index #\n",
    "            ml_index = random.randint( 0, ml_data.shape[0] - 1 )\n",
    "\n",
    "            # export raster #\n",
    "            ml_raster_export( ml_data[ml_index], ml_args_raster + '/raster-{:06d}.ras'.format( ml_index ) )\n",
    "            \n",
    "    return 'Task completed'\n",
    "\n",
    "ml_dataset_import(ml_args_dataset_low_res, ml_args_raster_low_res, ml_args_width_low_res)\n",
    "ml_dataset_import(ml_args_dataset_high_res, ml_args_raster_high_res, ml_args_width_high_res)"
   ]
  },
  {
   "cell_type": "code",
   "execution_count": null,
   "metadata": {},
   "outputs": [],
   "source": []
  }
 ],
 "metadata": {
  "kernelspec": {
   "display_name": "Python 3",
   "language": "python",
   "name": "python3"
  },
  "language_info": {
   "codemirror_mode": {
    "name": "ipython",
    "version": 3
   },
   "file_extension": ".py",
   "mimetype": "text/x-python",
   "name": "python",
   "nbconvert_exporter": "python",
   "pygments_lexer": "ipython3",
   "version": "3.6.5"
  }
 },
 "nbformat": 4,
 "nbformat_minor": 2
}
