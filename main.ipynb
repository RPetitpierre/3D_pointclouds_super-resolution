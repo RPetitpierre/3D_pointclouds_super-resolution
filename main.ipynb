{
 "cells": [
  {
   "cell_type": "markdown",
   "metadata": {},
   "source": [
    "## Imports"
   ]
  },
  {
   "cell_type": "code",
   "execution_count": 1,
   "metadata": {},
   "outputs": [],
   "source": [
    "import numpy as np\n",
    "import sys\n",
    "import os\n",
    "from sklearn.model_selection import train_test_split\n",
    "\n",
    "# Torch library\n",
    "import torch\n",
    "from torch.utils.data import Dataset, DataLoader\n",
    "import torch.nn as nn\n",
    "import torch.nn.functional as F\n",
    "import torch.optim as optim\n",
    "from torch.autograd import Variable\n",
    "\n",
    "# Matplotlib to visualize the result\n",
    "import matplotlib as mpl\n",
    "import matplotlib.pyplot as plt\n",
    "import mpl_toolkits.mplot3d as plt3d\n",
    "import matplotlib.cm as cm"
   ]
  },
  {
   "cell_type": "markdown",
   "metadata": {},
   "source": [
    "## Load the data"
   ]
  },
  {
   "cell_type": "code",
   "execution_count": 2,
   "metadata": {},
   "outputs": [],
   "source": [
    "# Arguments\n",
    "ml_args_raster_low_res = './raster/low_res'\n",
    "ml_args_raster_high_res = './raster/high_res'\n",
    "ml_args_model = './model/'\n",
    "ml_args_count = 13597\n",
    "\n",
    "def ml_raster_import( ml_path ):\n",
    "    ''' Import a raster found at given the path '''\n",
    "    \"\"\"\n",
    "        Args:\n",
    "            ml_path(string): the full path of the raster .ras to import\n",
    "    \"\"\"\n",
    "\n",
    "    # check consistency #\n",
    "    if ( not os.path.exists( ml_path ) ):\n",
    "\n",
    "        # send message #\n",
    "        sys.exit( 'turing : error : unable to access raster' )\n",
    "\n",
    "    # retrieve raster size #\n",
    "    ml_size = os.path.getsize( ml_path )\n",
    "\n",
    "    # compute raster width #\n",
    "    ml_width = int( round( ml_size ** ( 1.0 / 3.0 ) ) )\n",
    "\n",
    "    # import raster data #\n",
    "    with open( ml_path, 'rb' ) as ml_file:\n",
    "\n",
    "        # read raster bytes #\n",
    "        ml_byte = ml_file.read( ml_size )\n",
    "\n",
    "    # convert to numpy array #\n",
    "    ml_data = np.frombuffer( ml_byte, dtype=np.uint8 )\n",
    "\n",
    "    # return raster array #\n",
    "    return ml_data.reshape( ml_width, ml_width, ml_width )"
   ]
  },
  {
   "cell_type": "code",
   "execution_count": 3,
   "metadata": {},
   "outputs": [],
   "source": [
    "def get_ml_data(ml_args_raster):\n",
    "    ''' Calls ml_raster_import to import all rasters '''\n",
    "    \"\"\"\n",
    "        Args:\n",
    "            ml_args_raster(string): the rasters folder path\n",
    "    \"\"\"\n",
    "\n",
    "    ml_data = []\n",
    "    \n",
    "    for raster_id in range(ml_args_count):\n",
    "        \n",
    "        raster_path = ml_args_raster + '/raster-{:06d}.ras'.format(raster_id)\n",
    "    \n",
    "        # import raster array #\n",
    "        data = ml_raster_import(raster_path)\n",
    "    \n",
    "        ml_data.append(data)\n",
    "        \n",
    "    return ml_data\n",
    "\n",
    "# Import xs (low resolution rasters) and ys (high resolution rasters)\n",
    "ml_data_low_res = get_ml_data(ml_args_raster_low_res)\n",
    "ml_data_high_res = get_ml_data(ml_args_raster_high_res)"
   ]
  },
  {
   "cell_type": "code",
   "execution_count": null,
   "metadata": {},
   "outputs": [],
   "source": [
    "def ml_raster_convert( ml_raster ):\n",
    "    ''' Convert rasters in form of a serie of 0 and 1 (1 = point) into an array containing the\n",
    "        coordinates of the points '''\n",
    "    \"\"\"\n",
    "        Args:\n",
    "            ml_raster(numpy 3 dim array): the array containing a serie of 0 and 1\n",
    "    \"\"\"\n",
    "\n",
    "    # check consistency #\n",
    "    if ( ( ml_raster.shape[0] != ml_raster.shape[1] ) or ( ml_raster.shape[0] != ml_raster.shape[2] ) ):\n",
    "\n",
    "        # send message #\n",
    "        sys.exit( 'turing : error : raster not consistent' )\n",
    "\n",
    "    # retrieve raster width #\n",
    "    ml_width = ml_raster.shape[0]\n",
    "\n",
    "    # initialise array #\n",
    "    ml_data = np.empty( ( 0, 3 ), dtype=np.uint8 )\n",
    "\n",
    "    # parsing raster array #\n",
    "    for ml_x in range( ml_width ):\n",
    "\n",
    "        # parsing raster array #\n",
    "        for ml_y in range( ml_width ):\n",
    "\n",
    "            # parsing raster array #\n",
    "            for ml_z in range( ml_width ):\n",
    "\n",
    "                # check raster element #\n",
    "                if ( ml_raster[ml_x, ml_y, ml_z] != 0 ):\n",
    "\n",
    "                    # compute element coordinates #\n",
    "                    ml_r = ml_x / ml_width\n",
    "                    ml_s = ml_y / ml_width\n",
    "                    ml_t = ml_z / ml_width\n",
    "\n",
    "                    # append element #\n",
    "                    ml_data = np.append( ml_data, np.array( [[ ml_r, ml_s, ml_t ]] ), axis=0 )\n",
    "\n",
    "    # return converted array #\n",
    "    return( ml_data )"
   ]
  },
  {
   "cell_type": "markdown",
   "metadata": {},
   "source": [
    "## Build Torch Tensors from the data"
   ]
  },
  {
   "cell_type": "code",
   "execution_count": 4,
   "metadata": {},
   "outputs": [],
   "source": [
    "class CloudPointDataset(Dataset):\n",
    "    ''' Class of cloudpoint data that will be usable by Pytorch '''\n",
    "\n",
    "    def __init__(self, thin_dataset, thick_dataset, train, transform=None):\n",
    "        \"\"\"\n",
    "        Args:\n",
    "            mat_file (string): Path to the mat file with the data\n",
    "            train (boolean): Is it the training data or the test data\n",
    "            transform (callable, optional): Optional transform to be applied on a sample.\n",
    "        \"\"\"\n",
    "        self.X = thin_dataset\n",
    "        self.Y = thick_dataset\n",
    "        self.X = np.asarray(self.X).astype(float)\n",
    "        self.Y = np.asarray(self.Y).astype(float)\n",
    "        Xtrain, Xtest, Ytrain, Ytest = train_test_split(self.X, self.Y, test_size=0.3, random_state=1)\n",
    "        self.Xtrain, self.Xtest = Xtrain, Xtest\n",
    "        self.Ytrain, self.Ytest = Ytrain, Ytest\n",
    "        self.train = train\n",
    "        self.transform = transform\n",
    "\n",
    "    def __len__(self):\n",
    "        if self.train:\n",
    "            return (self.Xtrain.shape[0])\n",
    "        else:\n",
    "            return (self.Xtest.shape[0])\n",
    "\n",
    "    def __getitem__(self, idx):\n",
    "        \n",
    "        if self.train:\n",
    "            sample = {'image': self.Xtrain[idx,:], 'label': self.Ytrain[idx,:]}\n",
    "        else:\n",
    "            sample = {'image': self.Xtest[idx,:], 'label': self.Ytest[idx,:]}\n",
    "            \n",
    "        if self.transform:\n",
    "            sample = self.transform(sample)\n",
    "\n",
    "        return sample"
   ]
  },
  {
   "cell_type": "code",
   "execution_count": 5,
   "metadata": {},
   "outputs": [],
   "source": [
    "class ToTensor(object):\n",
    "    ''' Convert ndarrays in sample to Tensors. '''\n",
    "\n",
    "    def __call__(self, sample):\n",
    "        raster, label = sample['image'], sample['label']\n",
    "        raster = torch.from_numpy(raster).float()\n",
    "        raster = raster.expand(1, 16, 16, 16)\n",
    "        return {'image': raster, 'label': label}"
   ]
  },
  {
   "cell_type": "code",
   "execution_count": 6,
   "metadata": {},
   "outputs": [],
   "source": [
    "# Define the trainset and testset and put them in the form of a torch tensor\n",
    "trainset = CloudPointDataset(ml_data_low_res, ml_data_high_res, train=True, transform = ToTensor())\n",
    "trainloader = torch.utils.data.DataLoader(trainset, batch_size = 1, shuffle=False, num_workers=0)\n",
    "\n",
    "testset = CloudPointDataset(ml_data_low_res, ml_data_high_res, train=False, transform=ToTensor())\n",
    "testloader = torch.utils.data.DataLoader(testset, batch_size = 1, shuffle=False, num_workers=0)"
   ]
  },
  {
   "cell_type": "markdown",
   "metadata": {},
   "source": [
    "## Define the model & CNN architecture"
   ]
  },
  {
   "cell_type": "code",
   "execution_count": 7,
   "metadata": {},
   "outputs": [],
   "source": [
    "class Net(nn.Module):\n",
    "    def __init__(self):\n",
    "        ''' Define the functions that are to be used in the CNN '''\n",
    "        \n",
    "        super(Net, self).__init__()\n",
    "        self.conv1 = nn.Conv3d(1, 32, 3, padding = 1, stride = 1)\n",
    "        self.conv2 = nn.Conv3d(32, 32, 3, padding = 1, stride = 1)\n",
    "        self.conv3 = nn.Conv3d(32, 64, 3, padding = 1, stride = 1)\n",
    "        self.conv4 = nn.Conv3d(64, 64, 3, padding = 1, stride = 1)\n",
    "        self.conv5 = nn.Conv3d(64, 1, 3, padding = 1, stride = 1)\n",
    "        self.BN = nn.BatchNorm3d(num_features = 32)\n",
    "        \n",
    "    def forward(self, x):\n",
    "        ''' Define the architecture of the CNN '''\n",
    "        \n",
    "        # Empty storage vector\n",
    "        x_ = []\n",
    "        \n",
    "        # Augment the number of layers from 1 to 32\n",
    "        x = self.conv1(x)\n",
    "        x = self.BN(x)\n",
    "        x = F.relu(x)\n",
    "        x_.append(x)\n",
    "        \n",
    "        # 6 residual blocks (core CNN)\n",
    "        for i in range(6):\n",
    "            x = self.conv2(x)\n",
    "            x = self.BN(x)\n",
    "            x = F.relu(x)\n",
    "            x = self.conv2(x)\n",
    "            x = self.BN(x)\n",
    "            x = x + x_[-1]\n",
    "            x_.append(x)\n",
    "        \n",
    "        x = self.conv2(x)\n",
    "        x = self.BN(x)\n",
    "        x = x + x_[0]\n",
    "        \n",
    "        # Augment the number of layers from 32 to 64\n",
    "        x = self.conv3(x)\n",
    "        x = F.relu(x)\n",
    "        \n",
    "        # Two-step interpolation to the higher resolution\n",
    "        x = nn.functional.interpolate(x, size = (24, 24, 24), mode='trilinear')\n",
    "        x = self.conv4(x)\n",
    "        x = F.relu(x)\n",
    "        x = self.conv4(x)\n",
    "        x = F.relu(x) \n",
    "        x = nn.functional.interpolate(x, size = (32, 32, 32), mode='trilinear')\n",
    "        x = self.conv4(x)\n",
    "        x = F.relu(x)\n",
    "        \n",
    "        # Reduce the number of layers again from 64 to 1\n",
    "        x = self.conv5(x)        \n",
    "        \n",
    "        return x\n",
    "\n",
    "model = Net()"
   ]
  },
  {
   "cell_type": "code",
   "execution_count": 8,
   "metadata": {},
   "outputs": [],
   "source": [
    "# Define the criterion (loss function) and the optimizer (here : stochastic gradient descent)\n",
    "criterion = nn.BCEWithLogitsLoss()\n",
    "optimizer = optim.SGD(model.parameters(), lr = 0.01, momentum = 0.8)"
   ]
  },
  {
   "cell_type": "markdown",
   "metadata": {},
   "source": [
    "# Train the model"
   ]
  },
  {
   "cell_type": "code",
   "execution_count": null,
   "metadata": {},
   "outputs": [
    {
     "name": "stderr",
     "output_type": "stream",
     "text": [
      "/anaconda3/lib/python3.6/site-packages/torch/nn/functional.py:1961: UserWarning: Default upsampling behavior when mode=trilinear is changed to align_corners=False since 0.4.0. Please specify align_corners=True if the old behavior is desired. See the documentation of nn.Upsample for details.\n",
      "  \"See the documentation of nn.Upsample for details.\".format(mode))\n",
      "/anaconda3/lib/python3.6/site-packages/ipykernel_launcher.py:31: UserWarning: invalid index of a 0-dim tensor. This will be an error in PyTorch 0.5. Use tensor.item() to convert a 0-dim tensor to a Python number\n"
     ]
    },
    {
     "name": "stdout",
     "output_type": "stream",
     "text": [
      "[1,     7] loss: 0.421\n",
      "[2,     7] loss: 0.417\n"
     ]
    }
   ],
   "source": [
    "# Empty storage variables\n",
    "y_hat, y, x = [], [], []\n",
    "\n",
    "for epoch in range(5):  # loop over the dataset multiple times\n",
    "    \n",
    "    # Initialize loss\n",
    "    running_loss = 0.0\n",
    "    \n",
    "    for i, data in enumerate(trainloader, 0):\n",
    "        \n",
    "        # Get the inputs\n",
    "        images, labels = data['image'], data['label'].float()\n",
    "        \n",
    "        # Wrap them in Variable\n",
    "        images, labels = Variable(images), Variable(labels)\n",
    "\n",
    "        # Clear the gradients of the variables\n",
    "        optimizer.zero_grad()\n",
    "\n",
    "        # Forward + backward + optimize\n",
    "        outputs = model(images)\n",
    "        outputs = np.squeeze(outputs, axis=0)\n",
    "        labels = np.squeeze(labels, axis=0)\n",
    "        \n",
    "        # Store the prediction, as well as the corresponding x and y rasters\n",
    "        y_hat.append(outputs)\n",
    "        x.append(images)\n",
    "        y.append(labels)\n",
    "        \n",
    "        # Minimize loss\n",
    "        loss = criterion(outputs, labels)\n",
    "        loss.backward()\n",
    "        optimizer.step()\n",
    "\n",
    "        # Update statistics\n",
    "        running_loss += loss.data[0]\n",
    "\n",
    "        # Print the loss of the last mini-batch of each epoch\n",
    "        if i+1 == 7:\n",
    "            print('[%d, %5d] loss: %.3f' %\n",
    "                      (epoch + 1, i + 1, running_loss))\n",
    "        \n",
    "        # Save the model iteration\n",
    "        torch.save({\n",
    "            'epoch': epoch,\n",
    "            'model_state_dict': model.state_dict(),\n",
    "            'optimizer_state_dict': optimizer.state_dict(),\n",
    "            'loss': loss\n",
    "            }, './model/model_epoch_' + str(epoch))\n",
    "\n",
    "print('Finished Training')"
   ]
  },
  {
   "cell_type": "markdown",
   "metadata": {},
   "source": [
    "# Print the output"
   ]
  },
  {
   "cell_type": "code",
   "execution_count": null,
   "metadata": {},
   "outputs": [],
   "source": [
    "# Check output dimension\n",
    "print(len(y_hat), len(y_hat[0]), len(y_hat[0][0]), len(y_hat[0][0][0]))"
   ]
  },
  {
   "cell_type": "code",
   "execution_count": null,
   "metadata": {},
   "outputs": [],
   "source": [
    "def print_3D(y, n, mode):\n",
    "    ''' Print 3D visualization of the raster n '''\n",
    "    \"\"\"\n",
    "        Args:\n",
    "            y(3 dims numpy array): pointcloud as serie of 1 and 0\n",
    "            n(int): indice of the raster you want to visualize\n",
    "            mode(string):  'x' if you want to visualize the inputs\n",
    "                           'y' if you want to visualize the labels\n",
    "    \"\"\"\n",
    "    \n",
    "    if mode == 'x':\n",
    "        Y = y[n][0][0].detach().numpy()\n",
    "    else:\n",
    "        Y = y[n].detach().numpy()\n",
    "        \n",
    "    Y = ml_raster_convert(Y)\n",
    "    \n",
    "    # create figure #\n",
    "    ml_figure = plt.figure()\n",
    "\n",
    "    # create figure sub-plot #\n",
    "    ml_plot = ml_figure.add_subplot(111, projection='3d' )\n",
    "\n",
    "    ml_plot.scatter(Y[:,2], Y[:,1], Y[:,0], s=8, marker='.')\n",
    "    # setting axis aspect ratio #\n",
    "    ml_plot.set_aspect( 'equal' )\n",
    "\n",
    "    # setting axis limits #\n",
    "    ml_plot.set_xlim( 0.0, 1.0 )\n",
    "    ml_plot.set_ylim( 0.0, 1.0 )\n",
    "    ml_plot.set_zlim( 0.0, 1.0 )\n",
    "\n",
    "    # setting plot initial camera view #\n",
    "    ml_plot.view_init( elev=66, azim=225 )\n",
    "        \n",
    "    return True"
   ]
  },
  {
   "cell_type": "code",
   "execution_count": null,
   "metadata": {},
   "outputs": [],
   "source": [
    "def print_3D_pred(y, n = 0):\n",
    "    ''' Print 3D visualization of the prediction raster n '''\n",
    "    \"\"\"\n",
    "        Args:\n",
    "            y(3 dims numpy array): pointcloud as serie of 1 and 0\n",
    "            n(int): indice of the raster you want to visualize\n",
    "\n",
    "    \"\"\"\n",
    "    \n",
    "    Y = y[n].detach().numpy()\n",
    "        \n",
    "    Y[Y < 0.5] = 0.\n",
    "    Y[Y >= 0.5] = 1.\n",
    "    \n",
    "    raster = ml_raster_convert(Y)\n",
    "        \n",
    "    # create figure #\n",
    "    ml_figure = plt.figure()\n",
    "\n",
    "    # create figure sub-plot #\n",
    "    ml_plot = ml_figure.add_subplot(111, projection='3d' )\n",
    "\n",
    "    ml_plot.scatter(raster[:,2], raster[:,1], raster[:,0], s=8, marker='.')\n",
    "    # setting axis aspect ratio #\n",
    "    ml_plot.set_aspect( 'equal' )\n",
    "\n",
    "    # setting axis limits #\n",
    "    ml_plot.set_xlim( 0.0, 1.0 )\n",
    "    ml_plot.set_ylim( 0.0, 1.0 )\n",
    "    ml_plot.set_zlim( 0.0, 1.0 )\n",
    "\n",
    "    # setting plot initial camera view #\n",
    "    ml_plot.view_init( elev=66, azim=225 )\n",
    "        \n",
    "    return True"
   ]
  },
  {
   "cell_type": "code",
   "execution_count": null,
   "metadata": {},
   "outputs": [],
   "source": [
    "%matplotlib\n",
    "#%matplotlib qt # comment if you want to plot inline\n",
    "%matplotlib inline # comment if you want to plot in interactive 3D"
   ]
  },
  {
   "cell_type": "code",
   "execution_count": null,
   "metadata": {},
   "outputs": [],
   "source": [
    "# Pick a raster you want to see\n",
    "# (NB : learning is random => ordering will change each time you train the model)\n",
    "n = 2007"
   ]
  },
  {
   "cell_type": "code",
   "execution_count": null,
   "metadata": {
    "scrolled": true
   },
   "outputs": [],
   "source": [
    "print_3D(x, n, mode = 'x')"
   ]
  },
  {
   "cell_type": "code",
   "execution_count": null,
   "metadata": {},
   "outputs": [],
   "source": [
    "print_3D(y, n, mode = 'y')"
   ]
  },
  {
   "cell_type": "code",
   "execution_count": null,
   "metadata": {},
   "outputs": [],
   "source": [
    "print_3D_pred(y_hat, n)"
   ]
  },
  {
   "cell_type": "code",
   "execution_count": null,
   "metadata": {},
   "outputs": [],
   "source": []
  }
 ],
 "metadata": {
  "kernelspec": {
   "display_name": "Python 3",
   "language": "python",
   "name": "python3"
  },
  "language_info": {
   "codemirror_mode": {
    "name": "ipython",
    "version": 3
   },
   "file_extension": ".py",
   "mimetype": "text/x-python",
   "name": "python",
   "nbconvert_exporter": "python",
   "pygments_lexer": "ipython3",
   "version": "3.6.5"
  }
 },
 "nbformat": 4,
 "nbformat_minor": 2
}
