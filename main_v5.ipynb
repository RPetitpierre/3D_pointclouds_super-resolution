{
 "cells": [
  {
   "cell_type": "markdown",
   "metadata": {},
   "source": [
    "## Imports"
   ]
  },
  {
   "cell_type": "code",
   "execution_count": 1,
   "metadata": {},
   "outputs": [],
   "source": [
    "import numpy as np\n",
    "import sys\n",
    "import os\n",
    "import torch\n",
    "from torch.utils.data import Dataset, DataLoader\n",
    "from sklearn.model_selection import train_test_split\n",
    "import torch.nn as nn\n",
    "import torch.nn.functional as F\n",
    "import torch.optim as optim\n",
    "from torch.autograd import Variable\n",
    "\n",
    "import matplotlib as mpl\n",
    "import matplotlib.pyplot as plt\n",
    "import mpl_toolkits.mplot3d as plt3d\n",
    "import matplotlib.cm as cm"
   ]
  },
  {
   "cell_type": "markdown",
   "metadata": {},
   "source": [
    "## Load the data"
   ]
  },
  {
   "cell_type": "code",
   "execution_count": 2,
   "metadata": {},
   "outputs": [],
   "source": [
    "ml_args_raster_low_res = './raster/low_res'\n",
    "ml_args_raster_high_res = './raster/high_res'\n",
    "ml_args_count = 13597\n",
    "\n",
    "def ml_raster_import( ml_path ):\n",
    "\n",
    "    # check consistency #\n",
    "    if ( not os.path.exists( ml_path ) ):\n",
    "\n",
    "        # send message #\n",
    "        sys.exit( 'turing : error : unable to access raster' )\n",
    "\n",
    "    # retrieve raster size #\n",
    "    ml_size = os.path.getsize( ml_path )\n",
    "\n",
    "    # compute raster width #\n",
    "    ml_width = int( round( ml_size ** ( 1.0 / 3.0 ) ) )\n",
    "\n",
    "    # import raster data #\n",
    "    with open( ml_path, 'rb' ) as ml_file:\n",
    "\n",
    "        # read raster bytes #\n",
    "        ml_byte = ml_file.read( ml_size )\n",
    "\n",
    "    # convert to numpy array #\n",
    "    ml_data = np.frombuffer( ml_byte, dtype=np.uint8 )\n",
    "\n",
    "    # return raster array #\n",
    "    return ml_data.reshape( ml_width, ml_width, ml_width )\n",
    "\n",
    "##\n",
    "##  script - raster convertion\n",
    "##\n",
    "\n",
    "def ml_raster_convert( ml_raster ):\n",
    "\n",
    "    # check consistency #\n",
    "    if ( ( ml_raster.shape[0] != ml_raster.shape[1] ) or ( ml_raster.shape[0] != ml_raster.shape[2] ) ):\n",
    "\n",
    "        # send message #\n",
    "        sys.exit( 'turing : error : raster not consistent' )\n",
    "\n",
    "    # retrieve raster width #\n",
    "    ml_width = ml_raster.shape[0]\n",
    "\n",
    "    # initialise array #\n",
    "    ml_data = np.empty( ( 0, 3 ), dtype=np.uint8 )\n",
    "\n",
    "    # parsing raster array #\n",
    "    for ml_x in range( ml_width ):\n",
    "\n",
    "        # parsing raster array #\n",
    "        for ml_y in range( ml_width ):\n",
    "\n",
    "            # parsing raster array #\n",
    "            for ml_z in range( ml_width ):\n",
    "\n",
    "                # check raster element #\n",
    "                if ( ml_raster[ml_x, ml_y, ml_z] != 0 ):\n",
    "\n",
    "                    # compute element coordinates #\n",
    "                    ml_r = ml_x / ml_width\n",
    "                    ml_s = ml_y / ml_width\n",
    "                    ml_t = ml_z / ml_width\n",
    "\n",
    "                    # append element #\n",
    "                    ml_data = np.append( ml_data, np.array( [[ ml_r, ml_s, ml_t ]] ), axis=0 )\n",
    "\n",
    "    # return converted array #\n",
    "    return( ml_data )"
   ]
  },
  {
   "cell_type": "code",
   "execution_count": 3,
   "metadata": {},
   "outputs": [],
   "source": [
    "def get_ml_data(ml_args_raster):\n",
    "\n",
    "    ml_data = []\n",
    "    \n",
    "    for raster_id in range(4000):\n",
    "        \n",
    "        raster_path = ml_args_raster + '/raster-{:06d}.ras'.format(raster_id)\n",
    "    \n",
    "        # import raster array #\n",
    "        data = ml_raster_import(raster_path)\n",
    "\n",
    "        # convert raster to point set #\n",
    "        #data = ml_raster_convert(data)\n",
    "    \n",
    "        ml_data.append(data)\n",
    "        \n",
    "    return ml_data\n",
    "\n",
    "ml_data_low_res = get_ml_data(ml_args_raster_low_res)\n",
    "ml_data_high_res = get_ml_data(ml_args_raster_high_res)"
   ]
  },
  {
   "cell_type": "markdown",
   "metadata": {},
   "source": [
    "## Define the loss function"
   ]
  },
  {
   "cell_type": "code",
   "execution_count": 4,
   "metadata": {},
   "outputs": [],
   "source": [
    "def dice_loss(pred, target):\n",
    "    \"\"\"This definition generalize to real valued pred and target vector. This should be differentiable.\n",
    "    pred: tensor with first dimension as batch\n",
    "    target: tensor with first dimension as batch\n",
    "    \"\"\"\n",
    "    smooth = 1.\n",
    "\n",
    "    # have to use contiguous since they may from a torch.view op\n",
    "    iflat = pred.contiguous().view(-1)\n",
    "    tflat = target.contiguous().view(-1)\n",
    "    intersection = (iflat * tflat).sum()\n",
    "\n",
    "    A_sum = torch.sum(tflat * iflat)\n",
    "    B_sum = torch.sum(tflat * tflat)\n",
    "    \n",
    "    # Discretize prediction at threshold = 0.5\n",
    "    length = len(pred[0][0])\n",
    "    zeros = torch.zeros(length, length, length)\n",
    "    ones = torch.ones(length, length, length)\n",
    "    pred_ = torch.where(pred >= 0.5, pred, zeros)\n",
    "    pred_ = torch.where(pred_ < 0.5, pred_, ones)\n",
    "    \n",
    "    pred_grad, target_grad = pred, target\n",
    "    pred_grad = pred_grad.detach().numpy()\n",
    "    target_grad = target_grad.detach().numpy()\n",
    "    \n",
    "    pred_grad = np.gradient(pred_grad)\n",
    "    target_grad = np.gradient(target_grad)\n",
    "    \n",
    "    mu_ = (np.linalg.norm((target_grad[0] - pred_grad[0])**2) + \\\n",
    "    np.linalg.norm((target_grad[1] - pred_grad[1])**2) + \\\n",
    "    np.linalg.norm((target_grad[2] - pred_grad[2])**2))*1e-4\n",
    "    \n",
    "    return abs(1 - ((2. * intersection + smooth) / (A_sum + B_sum + smooth) )) + mu_"
   ]
  },
  {
   "cell_type": "markdown",
   "metadata": {},
   "source": [
    "## Build Torch Tensors from the data"
   ]
  },
  {
   "cell_type": "code",
   "execution_count": 5,
   "metadata": {},
   "outputs": [],
   "source": [
    "class CloudPointDataset(Dataset):\n",
    "\n",
    "    def __init__(self, thin_dataset, thick_dataset, train, transform=None):\n",
    "        \"\"\"\n",
    "        Args:\n",
    "            mat_file (string): Path to the mat file with the data\n",
    "            train (boolean): Is it the training data or the test data\n",
    "            transform (callable, optional): Optional transform to be applied on a sample.\n",
    "        \"\"\"\n",
    "        self.X = thin_dataset\n",
    "        self.Y = thick_dataset\n",
    "        self.X = np.asarray(self.X).astype(float)\n",
    "        self.Y = np.asarray(self.Y).astype(float)\n",
    "        Xtrain, Xtest, Ytrain, Ytest = train_test_split(self.X, self.Y, test_size=0.3, random_state=1)\n",
    "        self.Xtrain, self.Xtest = Xtrain, Xtest\n",
    "        self.Ytrain, self.Ytest = Ytrain, Ytest\n",
    "        self.train = train\n",
    "        self.transform = transform\n",
    "\n",
    "    def __len__(self):\n",
    "        if self.train:\n",
    "            return (self.Xtrain.shape[0])\n",
    "        else:\n",
    "            return (self.Xtest.shape[0])\n",
    "\n",
    "    def __getitem__(self, idx):\n",
    "        \n",
    "        if self.train:\n",
    "            sample = {'image': self.Xtrain[idx,:], 'label': self.Ytrain[idx,:]}\n",
    "        else:\n",
    "            sample = {'image': self.Xtest[idx,:], 'label': self.Ytest[idx,:]}\n",
    "            \n",
    "        if self.transform:\n",
    "            sample = self.transform(sample)\n",
    "\n",
    "        return sample"
   ]
  },
  {
   "cell_type": "code",
   "execution_count": 6,
   "metadata": {},
   "outputs": [],
   "source": [
    "class ToTensor(object):\n",
    "    \"\"\"Convert ndarrays in sample to Tensors.\"\"\"\n",
    "\n",
    "    def __call__(self, sample):\n",
    "        raster, label = sample['image'], sample['label']\n",
    "        raster = torch.from_numpy(raster).float()\n",
    "        raster = raster.expand(1, 16, 16, 16)\n",
    "        return {'image': raster, 'label': label}"
   ]
  },
  {
   "cell_type": "code",
   "execution_count": 7,
   "metadata": {},
   "outputs": [],
   "source": [
    "trainset = CloudPointDataset(ml_data_low_res, ml_data_high_res, train=True, transform = ToTensor())\n",
    "trainloader = torch.utils.data.DataLoader(trainset, batch_size = 100, shuffle=True, num_workers=10)\n",
    "\n",
    "testset = CloudPointDataset(ml_data_low_res, ml_data_high_res, train=False, transform=ToTensor())\n",
    "testloader = torch.utils.data.DataLoader(testset, batch_size = 100, shuffle=False, num_workers=10)"
   ]
  },
  {
   "cell_type": "markdown",
   "metadata": {},
   "source": [
    "## Define the model & CNN architecture"
   ]
  },
  {
   "cell_type": "code",
   "execution_count": 14,
   "metadata": {},
   "outputs": [],
   "source": [
    "class Net(nn.Module):\n",
    "    def __init__(self):\n",
    "        \n",
    "        super(Net, self).__init__()\n",
    "        self.conv = nn.Conv3d(1, 1, 3, padding = 1, stride = 1)\n",
    "        self.BN = nn.BatchNorm3d(num_features = 1)\n",
    "        \n",
    "        self.replication_padding = nn.ReplicationPad3d(2)\n",
    "        self.zero_padding = nn.ConstantPad3d(2, 0)\n",
    "        self.depadding = nn.ReplicationPad3d(-4)\n",
    "        \n",
    "    def forward(self, x):\n",
    "\n",
    "        x_ = []\n",
    "        x = self.replication_padding(x)\n",
    "        x = self.zero_padding(x)\n",
    "        \n",
    "        x = self.conv(x)\n",
    "        x = self.BN(x)\n",
    "        x = F.relu(x)\n",
    "        x_.append(x)\n",
    "        \n",
    "        # 2 residual blocks\n",
    "        for i in range(2):\n",
    "            x = self.conv(x)\n",
    "            x = self.BN(x)\n",
    "            x = F.relu(x)\n",
    "            x = self.conv(x)\n",
    "            x = self.BN(x)\n",
    "            x = x + x_[-1]\n",
    "            x_.append(x)\n",
    "        \n",
    "        \n",
    "        x = self.conv(x)\n",
    "        x = self.BN(x)\n",
    "        x = x + x_[0]\n",
    "        \n",
    "        # Upsampling blocks\n",
    "        x = self.conv(x)\n",
    "        x = F.relu(x)\n",
    "        x = nn.functional.interpolate(x, size = (30, 30, 30), mode='trilinear')\n",
    "        x = self.conv(x)\n",
    "        x = F.relu(x)\n",
    "        x = self.conv(x)\n",
    "        x = F.relu(x) \n",
    "        x = nn.functional.interpolate(x, size = (40, 40, 40), mode='trilinear')\n",
    "        x = self.conv(x)\n",
    "        x = F.relu(x)\n",
    "        \n",
    "        x = self.conv(x)\n",
    "        x = self.depadding(x)\n",
    "        \n",
    "        \n",
    "        return x\n",
    "\n",
    "net = Net()"
   ]
  },
  {
   "cell_type": "code",
   "execution_count": 15,
   "metadata": {},
   "outputs": [],
   "source": [
    "criterion = nn.MSELoss()\n",
    "optimizer = optim.SGD(net.parameters(), lr = 1e-4, momentum = 0.8)"
   ]
  },
  {
   "cell_type": "markdown",
   "metadata": {},
   "source": [
    "# Train the model"
   ]
  },
  {
   "cell_type": "code",
   "execution_count": null,
   "metadata": {
    "scrolled": true
   },
   "outputs": [
    {
     "name": "stderr",
     "output_type": "stream",
     "text": [
      "/anaconda3/lib/python3.6/site-packages/torch/nn/functional.py:1961: UserWarning: Default upsampling behavior when mode=trilinear is changed to align_corners=False since 0.4.0. Please specify align_corners=True if the old behavior is desired. See the documentation of nn.Upsample for details.\n",
      "  \"See the documentation of nn.Upsample for details.\".format(mode))\n",
      "/anaconda3/lib/python3.6/site-packages/ipykernel_launcher.py:31: UserWarning: invalid index of a 0-dim tensor. This will be an error in PyTorch 0.5. Use tensor.item() to convert a 0-dim tensor to a Python number\n"
     ]
    },
    {
     "name": "stdout",
     "output_type": "stream",
     "text": [
      "[1,     7] loss: 8.491\n",
      "[2,     7] loss: 8.048\n",
      "[3,     7] loss: 7.650\n"
     ]
    }
   ],
   "source": [
    "y_hat, y, x = [], [], []\n",
    "\n",
    "for epoch in range(10):  # loop over the dataset multiple times\n",
    "    \n",
    "    running_loss = 0.0\n",
    "    for i, data in enumerate(trainloader, 0):\n",
    "        # get the inputs\n",
    "        images, labels = data['image'], data['label'].float()\n",
    "        \n",
    "        # wrap them in Variable\n",
    "        images, labels = Variable(images), Variable(labels)\n",
    "\n",
    "        # clear the gradients of the variables\n",
    "        optimizer.zero_grad()\n",
    "\n",
    "        # forward + backward + optimize\n",
    "        outputs = net(images)\n",
    "        outputs = np.squeeze(outputs, axis=0)\n",
    "        labels = np.squeeze(labels, axis=0)\n",
    "        \n",
    "        #outputs = np.expand_dims(outputs, axis=1)\n",
    "        y_hat.append(outputs)\n",
    "        x.append(images)\n",
    "        y.append(labels)\n",
    "                        \n",
    "        loss = dice_loss(outputs, labels)\n",
    "        loss.backward()\n",
    "        optimizer.step()\n",
    "\n",
    "        # print statistics\n",
    "        running_loss += loss.data[0]\n",
    "\n",
    "        # print every mini-batches\n",
    "        if i+1 == 7:\n",
    "            print('[%d, %5d] loss: %.3f' %\n",
    "                      (epoch + 1, i + 1, running_loss))\n",
    "\n",
    "print('Finished Training')"
   ]
  },
  {
   "cell_type": "markdown",
   "metadata": {},
   "source": [
    "# Print the output"
   ]
  },
  {
   "cell_type": "code",
   "execution_count": null,
   "metadata": {},
   "outputs": [],
   "source": [
    "print(len(y), len(y[0]), len(y[0][0]), len(y[0][0][0]), len(y[0][0][0][0]))"
   ]
  },
  {
   "cell_type": "code",
   "execution_count": null,
   "metadata": {},
   "outputs": [],
   "source": [
    "print(len(y_hat), len(y_hat[0]), len(y_hat[0][0]), len(y_hat[0][0][0]), len(y_hat[0][0][0][0]))"
   ]
  },
  {
   "cell_type": "code",
   "execution_count": null,
   "metadata": {},
   "outputs": [],
   "source": [
    "def print_x(y, n = 0):\n",
    "    \n",
    "    Y = y[n][0].detach().numpy()\n",
    "    Y = ml_raster_convert(Y)\n",
    "    \n",
    "    # create figure #\n",
    "    ml_figure = plt.figure()\n",
    "\n",
    "    # create figure sub-plot #\n",
    "    ml_plot = ml_figure.add_subplot(111, projection='3d' )\n",
    "\n",
    "    ml_plot.scatter(Y[:,2], Y[:,1], Y[:,0], s=8, marker='.')\n",
    "    # setting axis aspect ratio #\n",
    "    ml_plot.set_aspect( 'equal' )\n",
    "\n",
    "    # setting axis limits #\n",
    "    ml_plot.set_xlim( 0.0, 1.0 )\n",
    "    ml_plot.set_ylim( 0.0, 1.0 )\n",
    "    ml_plot.set_zlim( 0.0, 1.0 )\n",
    "\n",
    "    # setting plot initial camera view #\n",
    "    ml_plot.view_init( elev=66, azim=225 )\n",
    "        \n",
    "    return True"
   ]
  },
  {
   "cell_type": "code",
   "execution_count": null,
   "metadata": {},
   "outputs": [],
   "source": [
    "def print_y(y, n = 0):\n",
    "    \n",
    "    Y = y[n].detach().numpy()\n",
    "\n",
    "    Y[Y < 0.5] = 0\n",
    "    Y[Y >= 0.5] = 1\n",
    "    Y = ml_raster_convert(Y)\n",
    "    \n",
    "    # create figure #\n",
    "    ml_figure = plt.figure()\n",
    "\n",
    "    # create figure sub-plot #\n",
    "    ml_plot = ml_figure.add_subplot(111, projection='3d' )\n",
    "\n",
    "    ml_plot.scatter(Y[:,2], Y[:,1], Y[:,0], s=8, marker='.')\n",
    "    # setting axis aspect ratio #\n",
    "    ml_plot.set_aspect( 'equal' )\n",
    "\n",
    "    # setting axis limits #\n",
    "    ml_plot.set_xlim( 0.0, 1.0 )\n",
    "    ml_plot.set_ylim( 0.0, 1.0 )\n",
    "    ml_plot.set_zlim( 0.0, 1.0 )\n",
    "\n",
    "    # setting plot initial camera view #\n",
    "    ml_plot.view_init( elev=66, azim=225 )\n",
    "        \n",
    "    return True"
   ]
  },
  {
   "cell_type": "code",
   "execution_count": null,
   "metadata": {},
   "outputs": [],
   "source": [
    "#%matplotlib qt\n",
    "%matplotlib inline\n",
    "#%matplotlib"
   ]
  },
  {
   "cell_type": "code",
   "execution_count": null,
   "metadata": {
    "scrolled": true
   },
   "outputs": [],
   "source": [
    "print_x(x[0],1)"
   ]
  },
  {
   "cell_type": "code",
   "execution_count": null,
   "metadata": {},
   "outputs": [],
   "source": [
    "print_y(y[0], 1)"
   ]
  },
  {
   "cell_type": "code",
   "execution_count": null,
   "metadata": {},
   "outputs": [],
   "source": [
    "print_y(y_hat[0],1)"
   ]
  },
  {
   "cell_type": "code",
   "execution_count": null,
   "metadata": {},
   "outputs": [],
   "source": []
  }
 ],
 "metadata": {
  "kernelspec": {
   "display_name": "Python 3",
   "language": "python",
   "name": "python3"
  },
  "language_info": {
   "codemirror_mode": {
    "name": "ipython",
    "version": 3
   },
   "file_extension": ".py",
   "mimetype": "text/x-python",
   "name": "python",
   "nbconvert_exporter": "python",
   "pygments_lexer": "ipython3",
   "version": "3.6.5"
  }
 },
 "nbformat": 4,
 "nbformat_minor": 2
}
