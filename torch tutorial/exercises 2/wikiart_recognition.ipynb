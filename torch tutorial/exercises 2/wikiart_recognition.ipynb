{
 "cells": [
  {
   "cell_type": "markdown",
   "metadata": {},
   "source": [
    "# Painting style recognition from images"
   ]
  },
  {
   "cell_type": "markdown",
   "metadata": {},
   "source": [
    "We will evaluate the performance of CNNs on the same task of painting style recognition from images as last week. \n",
    "\n",
    "We will use the same subset of the wikiart dataset of Tan et al., A Deep Convolutional Network for Fine-art Paintings Classification, ICIP 2016. This time, however, we will directly work on the raw images. For reasons of size, I resized them to 32x32 pixels. The data contains:\n",
    "- X: the vectorized RGB images\n",
    "- Y: the label of each image\n",
    "\n",
    "Let us first load the data using a new Dataset class"
   ]
  },
  {
   "cell_type": "code",
   "execution_count": 57,
   "metadata": {},
   "outputs": [],
   "source": [
    "import numpy as np\n",
    "import scipy.io as sio # This will allow us to load the data\n",
    "import torch\n",
    "from torch.utils.data import Dataset, DataLoader\n",
    "from sklearn.model_selection import train_test_split\n",
    "\n",
    "class WikiArtDataset(Dataset):\n",
    "\n",
    "    def __init__(self, mat_file, train, transform=None):\n",
    "        \"\"\"\n",
    "        Args:\n",
    "            mat_file (string): Path to the mat file with the data\n",
    "            train (boolean): Is it the training data or the test data\n",
    "            transform (callable, optional): Optional transform to be applied\n",
    "                on a sample.\n",
    "        \"\"\"\n",
    "        data = sio.loadmat(mat_file)\n",
    "        self.X = data['X']\n",
    "        self.Y = data['Y'].squeeze() -1\n",
    "        Xtrain,Xtest,Ytrain,Ytest = train_test_split(self.X,self.Y,test_size=0.33,random_state=1)\n",
    "        self.Xtrain = Xtrain.astype(float)\n",
    "        self.Xtest = Xtest.astype(float)\n",
    "        self.Ytrain = Ytrain.astype(float)\n",
    "        self.Ytest = Ytest.astype(float)\n",
    "        self.train = train\n",
    "        self.transform = transform\n",
    "\n",
    "    def __len__(self):\n",
    "        if self.train:\n",
    "            return (self.Xtrain.shape[0])\n",
    "        else:\n",
    "            return (self.Xtest.shape[0])\n",
    "\n",
    "    def __getitem__(self, idx):\n",
    "        \n",
    "        if self.train:\n",
    "            img = self.Xtrain[idx,:].reshape(3,32,32).transpose((2,1,0))\n",
    "            img = (img - 0.5)*2\n",
    "            sample = {'image': img, 'label': self.Ytrain[idx]}\n",
    "        else:\n",
    "            img = self.Xtest[idx,:].reshape(3,32,32).transpose((2,1,0))\n",
    "            img = (img - 0.5)*2\n",
    "            sample = {'image': img, 'label': self.Ytest[idx]}\n",
    "            \n",
    "        if self.transform:\n",
    "            sample = self.transform(sample)\n",
    "\n",
    "        return sample"
   ]
  },
  {
   "cell_type": "markdown",
   "metadata": {},
   "source": [
    "To use pytorch, we will need to convert the data to tensors. This can be achieved by creating a new transform as a class."
   ]
  },
  {
   "cell_type": "code",
   "execution_count": 58,
   "metadata": {},
   "outputs": [],
   "source": [
    "class ToTensor(object):\n",
    "    \"\"\"Convert ndarrays in sample to Tensors.\"\"\"\n",
    "\n",
    "    def __call__(self, sample):\n",
    "        image, label = sample['image'], sample['label']\n",
    "        image = image.transpose((2, 0, 1))\n",
    "        return {'image': torch.from_numpy(image).float(),\n",
    "                'label': label}"
   ]
  },
  {
   "cell_type": "markdown",
   "metadata": {},
   "source": [
    "We can now create the training and test set, and directly apply our new transform"
   ]
  },
  {
   "cell_type": "code",
   "execution_count": 59,
   "metadata": {},
   "outputs": [],
   "source": [
    "trainset = WikiArtDataset(mat_file='wikiart_img_data.mat', train=True, transform=ToTensor())\n",
    "trainloader = torch.utils.data.DataLoader(trainset, batch_size=4, shuffle=True, num_workers=2)\n",
    "\n",
    "testset = WikiArtDataset(mat_file='wikiart_img_data.mat', train=False, transform=ToTensor())\n",
    "testloader = torch.utils.data.DataLoader(testset, batch_size=4, shuffle=False, num_workers=2)"
   ]
  },
  {
   "cell_type": "markdown",
   "metadata": {},
   "source": [
    "Let us visualize a mini-batch of training images"
   ]
  },
  {
   "cell_type": "code",
   "execution_count": 60,
   "metadata": {},
   "outputs": [
    {
     "data": {
      "image/png": "[encoded data removed]",
      "text/plain": [
       "<Figure size 432x288 with 1 Axes>"
      ]
     },
     "metadata": {},
     "output_type": "display_data"
    }
   ],
   "source": [
    "import torchvision\n",
    "import matplotlib.pyplot as plt\n",
    "import numpy as np\n",
    "\n",
    "# get some random training images\n",
    "dataiter = iter(trainloader)\n",
    "samples = dataiter.next()\n",
    "images = samples['image']\n",
    "\n",
    "def imshow(img):\n",
    "    img = img / 2 + 0.5     # unnormalize\n",
    "    npimg = img.numpy()\n",
    "    plt.imshow(np.transpose(npimg, (1, 2, 0)))\n",
    "    \n",
    "# show images\n",
    "imshow(torchvision.utils.make_grid(images))\n",
    "plt.show()"
   ]
  },
  {
   "cell_type": "markdown",
   "metadata": {},
   "source": [
    "Create a new CNN. Test different architectures (draw inspiration from the tutorial). (TODO)"
   ]
  },
  {
   "cell_type": "code",
   "execution_count": 61,
   "metadata": {},
   "outputs": [],
   "source": [
    "import torch.nn as nn\n",
    "import torch.nn.functional as F\n",
    "\n",
    "class Net(nn.Module):\n",
    "    def __init__(self):\n",
    "        super(Net, self).__init__()\n",
    "        self.conv1 = nn.Conv2d(3, 3, 5)\n",
    "        self.pool = nn.MaxPool2d(2, 2)\n",
    "        self.conv2 = nn.Conv2d(3, 16, 5)\n",
    "        self.fc1 = nn.Linear(16*5*5, 32)\n",
    "        self.fc2 = nn.Linear(32, 8)\n",
    "        #self.fc3 = nn.Linear(32, 10)\n",
    "\n",
    "    def forward(self, x):\n",
    "        x = F.relu(self.conv1(x))\n",
    "        x = self.pool(x)\n",
    "        x = F.relu(self.conv2(x))\n",
    "        x = self.pool(x)\n",
    "        x = x.view(-1,16*5*5)\n",
    "        x = F.relu(self.fc1(x))\n",
    "        x = self.fc2(x)\n",
    "        #x = self.fc3(x)\n",
    "        return x\n",
    "\n",
    "net = Net()"
   ]
  },
  {
   "cell_type": "markdown",
   "metadata": {},
   "source": [
    "As in the tutorial, we will make use of the cross-entropy as a loss and of SGD with momentum as an optimization method. If time permits, feel free to investigate other strategies (e.g., ADAM)"
   ]
  },
  {
   "cell_type": "code",
   "execution_count": 62,
   "metadata": {},
   "outputs": [],
   "source": [
    "import torch.optim as optim\n",
    "\n",
    "criterion = nn.CrossEntropyLoss()\n",
    "optimizer = optim.SGD(net.parameters(), lr=0.0001, momentum=0.9)"
   ]
  },
  {
   "cell_type": "markdown",
   "metadata": {},
   "source": [
    "You can now train your model. Try different number of epochs. To obtain the inputs, you can use \"images = data['image']\" and for the labels \"labels = data['label'].long()\". (TODO)"
   ]
  },
  {
   "cell_type": "code",
   "execution_count": 97,
   "metadata": {},
   "outputs": [
    {
     "name": "stderr",
     "output_type": "stream",
     "text": [
      "/anaconda3/lib/python3.6/site-packages/ipykernel_launcher.py:22: UserWarning: invalid index of a 0-dim tensor. This will be an error in PyTorch 0.5. Use tensor.item() to convert a 0-dim tensor to a Python number\n"
     ]
    },
    {
     "name": "stdout",
     "output_type": "stream",
     "text": [
      "[1,   500] loss: 1.955\n",
      "[1,  1000] loss: 1.951\n",
      "[1,  1500] loss: 1.945\n",
      "[1,  2000] loss: 1.956\n",
      "[1,  2500] loss: 1.941\n",
      "[2,   500] loss: 1.950\n",
      "[2,  1000] loss: 1.912\n",
      "[2,  1500] loss: 1.937\n",
      "[2,  2000] loss: 1.935\n",
      "[2,  2500] loss: 1.920\n",
      "[3,   500] loss: 1.910\n",
      "[3,  1000] loss: 1.906\n",
      "[3,  1500] loss: 1.910\n",
      "[3,  2000] loss: 1.904\n",
      "[3,  2500] loss: 1.907\n",
      "[4,   500] loss: 1.894\n",
      "[4,  1000] loss: 1.895\n",
      "[4,  1500] loss: 1.893\n",
      "[4,  2000] loss: 1.890\n",
      "[4,  2500] loss: 1.876\n",
      "[5,   500] loss: 1.882\n",
      "[5,  1000] loss: 1.879\n",
      "[5,  1500] loss: 1.914\n",
      "[5,  2000] loss: 1.847\n",
      "[5,  2500] loss: 1.843\n",
      "Finished Training\n"
     ]
    }
   ],
   "source": [
    "from torch.autograd import Variable\n",
    "for epoch in range(5):  # loop over the dataset multiple times\n",
    "\n",
    "    running_loss = 0.0\n",
    "    for i, data in enumerate(trainloader, 0):\n",
    "        # get the inputs\n",
    "        images, labels = data['image'], data['label'].long()\n",
    "\n",
    "        # wrap them in Variable\n",
    "        images, labels = Variable(images), Variable(labels)\n",
    "\n",
    "        # clear the gradients of the variables\n",
    "        optimizer.zero_grad()\n",
    "\n",
    "        # forward + backward + optimize\n",
    "        outputs = net(images)\n",
    "        loss = criterion(outputs, labels)\n",
    "        loss.backward()\n",
    "        optimizer.step()\n",
    "\n",
    "        # print statistics\n",
    "        running_loss += loss.data[0]\n",
    "        if i % 500 == 499:    # print every 2000 mini-batches\n",
    "            print('[%d, %5d] loss: %.3f' %\n",
    "                  (epoch + 1, i + 1, running_loss / 500))\n",
    "            running_loss = 0.0\n",
    "\n",
    "print('Finished Training')"
   ]
  },
  {
   "cell_type": "markdown",
   "metadata": {},
   "source": [
    "Evaluate the model on the test data (TODO)"
   ]
  },
  {
   "cell_type": "code",
   "execution_count": 98,
   "metadata": {
    "scrolled": false
   },
   "outputs": [
    {
     "name": "stdout",
     "output_type": "stream",
     "text": [
      "Accuracy of 28 %\n"
     ]
    }
   ],
   "source": [
    "class_correct, class_total = 0, 0\n",
    "\n",
    "for data in testloader :\n",
    "    images, labels = data['image'], data['label'].long()\n",
    "    outputs = net(Variable(images))\n",
    "    _, predicted = torch.max(outputs.data, 1)\n",
    "    for ind, label in enumerate(labels):\n",
    "        if predicted[ind] == label:\n",
    "            class_correct += 1\n",
    "        class_total += 1\n",
    "\n",
    "print('Accuracy of %2d %%' % (100 * class_correct / class_total))"
   ]
  },
  {
   "cell_type": "code",
   "execution_count": null,
   "metadata": {},
   "outputs": [],
   "source": []
  }
 ],
 "metadata": {
  "kernelspec": {
   "display_name": "Python 3",
   "language": "python",
   "name": "python3"
  },
  "language_info": {
   "codemirror_mode": {
    "name": "ipython",
    "version": 3
   },
   "file_extension": ".py",
   "mimetype": "text/x-python",
   "name": "python",
   "nbconvert_exporter": "python",
   "pygments_lexer": "ipython3",
   "version": "3.6.5"
  }
 },
 "nbformat": 4,
 "nbformat_minor": 2
}
